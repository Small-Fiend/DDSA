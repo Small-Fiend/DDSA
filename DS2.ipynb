{
  "nbformat": 4,
  "nbformat_minor": 0,
  "metadata": {
    "colab": {
      "name": "DS2.ipynb",
      "provenance": [],
      "collapsed_sections": [],
      "authorship_tag": "ABX9TyODI9Ibqm7Kk6M1m+jf3L3g",
      "include_colab_link": true
    },
    "kernelspec": {
      "name": "python3",
      "display_name": "Python 3"
    },
    "language_info": {
      "name": "python"
    }
  },
  "cells": [
    {
      "cell_type": "markdown",
      "metadata": {
        "id": "view-in-github",
        "colab_type": "text"
      },
      "source": [
        "<a href=\"https://colab.research.google.com/github/Small-Fiend/DDSA/blob/main/DS2.ipynb\" target=\"_parent\"><img src=\"https://colab.research.google.com/assets/colab-badge.svg\" alt=\"Open In Colab\"/></a>"
      ]
    },
    {
      "cell_type": "code",
      "execution_count": 26,
      "metadata": {
        "id": "unqw--noYto5"
      },
      "outputs": [],
      "source": [
        "from dataclasses import dataclass\n",
        "from typing import Tuple, List\n",
        "import numpy as np"
      ]
    },
    {
      "cell_type": "code",
      "source": [
        "def gen_node_positions(m):\n",
        "  return np.unique(np.random.randit(low=0, hight=2**m, size=m)).tolist()"
      ],
      "metadata": {
        "id": "nfCkpFw7ZGF2"
      },
      "execution_count": 27,
      "outputs": []
    },
    {
      "cell_type": "code",
      "source": [
        "# Количество битов для идентификатора\n",
        "M = 3\n",
        "node_pos: list = [0, 1, 3]\n",
        "print(node_pos)"
      ],
      "metadata": {
        "colab": {
          "base_uri": "https://localhost:8080/"
        },
        "id": "jjnOuuoUZack",
        "outputId": "08dc980e-c87f-4b2a-d309-4626fea69fbb"
      },
      "execution_count": 28,
      "outputs": [
        {
          "output_type": "stream",
          "name": "stdout",
          "text": [
            "[0, 1, 3]\n"
          ]
        }
      ]
    },
    {
      "cell_type": "code",
      "source": [
        "CHORD_CIRCLE = []\n",
        "\n",
        "\n",
        "@dataclass\n",
        "class Finger:\n",
        "    start: int\n",
        "    interval: Tuple[int, int]\n",
        "    node_id: int\n",
        "\n",
        "        \n",
        "def within_interval(id, a, b, a_included=False, b_included=False):\n",
        "    \"\"\"\n",
        "    Проверка, может ли finger принимать запросы относительно этого идентификатора\n",
        "    \"\"\"\n",
        "    print(f'Check {id} in [{a}, {b}]')\n",
        "    is_less_than_b = id <= b if b_included else id < b\n",
        "    is_less_than_a = id <= a if a_included else id < a\n",
        "    is_more_than_a = id >= a if a_included else id > a\n",
        "    if a < b:\n",
        "        return is_more_than_a and is_less_than_b\n",
        "    elif a > b:\n",
        "        return is_more_than_a or is_less_than_b\n",
        "    else:\n",
        "        return a_included or b_included\n",
        "\n",
        "\n",
        "call_depth = 0\n",
        "\n",
        "\n",
        "def log(fn):\n",
        "    def decorated_fn(self, *args, **kwargs):\n",
        "        global call_depth\n",
        "        tab = lambda msg: '--' * call_depth + msg\n",
        "        print(tab('-' * 10))\n",
        "        print(tab(f'Start call {fn.__name__}.'))\n",
        "        print(tab(f'Information: node.id = {self.id}, args = {args}, kwargs = {kwargs}'))\n",
        "        call_depth += 1\n",
        "        result = fn(self, *args, **kwargs)\n",
        "        call_depth -= 1\n",
        "        print(tab(f'Finish call {fn.__name__}.'))\n",
        "        print(tab(f'Returned value: {result}'))\n",
        "        print(tab('/' * 10))\n",
        "        return result\n",
        "    return decorated_fn\n",
        "\n",
        "\n",
        "class ChordNode:\n",
        "    def __init__(self, id, finger_table, chord_service, predecessor_id):\n",
        "        self.id = id\n",
        "        self.finger_table = finger_table\n",
        "        self.chord_service = chord_service\n",
        "        self.chord_service.add_node(self)\n",
        "        self.predecessor_id = predecessor_id\n",
        "    \n",
        "    @property\n",
        "    @log\n",
        "    def successor(self):\n",
        "        successor_id = self.finger_table[0].node_id\n",
        "        return self.chord_service.get_node(successor_id)\n",
        "    \n",
        "    @property\n",
        "    @log\n",
        "    def predecessor(self):\n",
        "        return self.chord_service.get_node(self.predecessor_id)\n",
        "    \n",
        "    @property\n",
        "    @log\n",
        "    def successor_id(self):\n",
        "        successor_id = self.finger_table[0].node_id\n",
        "        return successor_id\n",
        "    \n",
        "    # Поиск\n",
        "    \n",
        "    @log\n",
        "    def find_successor(self, id):\n",
        "        if self.id == id:\n",
        "            return self\n",
        "        \n",
        "        node = self.find_predecessor(id)\n",
        "        return node.successor\n",
        "    \n",
        "    @log\n",
        "    def find_predecessor(self, id):\n",
        "        if self.id == id:\n",
        "            return self.predecessor\n",
        "        \n",
        "        node = self\n",
        "        while not within_interval(id, node.id, node.successor_id, b_included=True):\n",
        "            node = node.closest_preceding_finger(id)\n",
        "        return node\n",
        "    \n",
        "    @log\n",
        "    def closest_preceding_finger(self, id):\n",
        "        for i in range(len(self.finger_table) - 1, -1, -1):\n",
        "            finger_id = self.finger_table[i].node_id\n",
        "            print(f'Checking finger {i}')\n",
        "            if within_interval(finger_id, self.id, id):\n",
        "                node = self.chord_service.get_node(finger_id)\n",
        "                if node is None:\n",
        "                    self.finger_table[i].node_id = self.id\n",
        "                    continue\n",
        "                return self.chord_service.get_node(finger_id)\n",
        "        return self\n",
        "    \n",
        "    # Присоединение\n",
        "    \n",
        "    @log\n",
        "    def join(self, other_node):\n",
        "         # Создание пустой таблицы\n",
        "        self.prepare_finger_table()\n",
        "        if other_node is not None:\n",
        "            # Использование `other_node` для поиска fingers\n",
        "            self.init_finger_table(other_node)\n",
        "            self.update_others()\n",
        "        else:\n",
        "            # Это единтсвенный узел в сети\n",
        "            for i in range(self.chord_service.capacity):\n",
        "                self.finger_table[i].node_id = self.id\n",
        "            self.predecessor_id = self.id\n",
        "                \n",
        "    @log\n",
        "    def prepare_finger_table(self):\n",
        "        self.finger_table = []\n",
        "        m = self.chord_service.capacity\n",
        "        for i in range(m):\n",
        "            finger = Finger(None, None, None)\n",
        "            finger.start = (self.id + 2**i) % 2 ** m\n",
        "            interval_end = (self.id + 2**(i+1)) % 2 ** m\n",
        "            finger.interval = (finger.start, interval_end)\n",
        "            self.finger_table.append(finger)\n",
        "    \n",
        "    @log\n",
        "    def init_finger_table(self, other_node):\n",
        "        first_finger_start = self.finger_table[0].start\n",
        "        successor = other_node.find_successor(first_finger_start)\n",
        "        self.finger_table[0].node_id = successor.id\n",
        "        self.predecessor_id = successor.predecessor_id\n",
        "        successor.predecessor_id = self.id\n",
        "        \n",
        "        for i in range(self.chord_service.capacity - 1):\n",
        "            pre_finger = self.finger_table[i]\n",
        "            finger = self.finger_table[i + 1]\n",
        "            if within_interval(finger.start, self.id, pre_finger.node_id, a_included=True):\n",
        "                finger.node_id = pre_finger.node_id\n",
        "            else:\n",
        "                finger.node_id = other_node.find_successor(finger.start).id\n",
        "\n",
        "    @log            \n",
        "    def update_others(self, removed_id=None):\n",
        "        m = self.chord_service.capacity\n",
        "        for i in range(m):\n",
        "            pred_id = (self.id - 2**i + 1) % 2**m\n",
        "            p = self.find_predecessor(pred_id)\n",
        "            if removed_id is not None and p.id == removed_id:\n",
        "                p = self.find_predecessor(removed_id)\n",
        "\n",
        "            p.update_finger_table_v2(self.id, i)\n",
        "\n",
        "    @log\n",
        "    def update_finger_table(self, s, i): \n",
        "        if s == self.id:\n",
        "            return\n",
        "        \n",
        "        finger = self.finger_table[i]\n",
        "        if within_interval(s, self.id, finger.node_id, a_included=True):\n",
        "            finger.node_id = s\n",
        "            print(f'Updated finger {i} at {self.id} with {s}')\n",
        "            p = self.predecessor_id\n",
        "            p_node = self.chord_service.get_node(p)\n",
        "            p_node.update_finger_table(s, i)\n",
        "            \n",
        "    @log\n",
        "    def disconnect(self):\n",
        "        self.chord_service.remove_node(self.id)\n",
        "        # Обновление ближайших соседей\n",
        "        succ = self.successor\n",
        "        pred = self.predecessor\n",
        "        succ.predecessor_id = pred.id\n",
        "        pred.finger_table[0].node_id = succ.id\n",
        "        \n",
        "        self.successor.update_others(self.id)\n",
        "\n",
        "    @log\n",
        "    def update_finger_table_v2(self, s, i): \n",
        "        if s == self.id:\n",
        "            return\n",
        "        \n",
        "        finger = self.finger_table[i]\n",
        "        not_accessible = self.chord_service.get_node(finger.node_id) is None\n",
        "        print(f'Updating finger {i} with {s}. not_accessible={not_accessible}')\n",
        "        if within_interval(s, self.id, finger.node_id, a_included=True) or not_accessible:\n",
        "            finger.node_id = s\n",
        "            print(f'Updated finger {i} at {self.id} with {s}')\n",
        "            p = self.predecessor_id\n",
        "            p_node = self.chord_service.get_node(p)\n",
        "            p_node.update_finger_table_v2(s, i)\n",
        "        \n",
        "        if finger.node_id == s:\n",
        "            print('Found old finger which is already correct. Propagating info further...')\n",
        "            p = self.predecessor_id\n",
        "            p_node = self.chord_service.get_node(p)\n",
        "            p_node.update_finger_table_v2(s, i)\n",
        "        \n",
        "    def __repr__(self):\n",
        "        return f'Node: id={self.id}'"
      ],
      "metadata": {
        "id": "q76SABzcbFW9"
      },
      "execution_count": 29,
      "outputs": []
    },
    {
      "cell_type": "code",
      "source": [
        "class ChordService:\n",
        "  def __init__(self, m: int):\n",
        "    \"\"\"\n",
        "    Инициализация сервиса chord. Если указано `chord_circle`, \n",
        "    он используется для инициализации сервиса, в противном случае узлы будут\n",
        "    генерироваться случайным образом.\n",
        "\n",
        "    Параметры: \n",
        "    m: int\n",
        "      m = log2(максимальное число узлов)\n",
        "    \"\"\"\n",
        "    self.n_nodes_max = m\n",
        "    self.chord_circle = {}\n",
        "\n",
        "  def add_node(self, node: ChordNode):\n",
        "    \"\"\"\n",
        "    Добавление узла\n",
        "    \n",
        "    Параметры:\n",
        "    key: int\n",
        "        Ключевой идентификатор\n",
        "    \"\"\"\n",
        "    self.chord_circle[node.id] = node\n",
        "\n",
        "  def get_node(self, id) -> ChordNode:\n",
        "    return self.chord_circle.get(id)\n",
        "\n",
        "  def remove_node(self, id):\n",
        "    self.chord_circle.pop(id)\n",
        "\n",
        "  def init_chord_circle(self, circle):\n",
        "    for node in circle:\n",
        "      self.chord_circle[node.id] = node\n",
        "\n",
        "  @property\n",
        "  def capacity(self):\n",
        "    return self.n_nodes_max"
      ],
      "metadata": {
        "id": "o9K_-2Hu0AFQ"
      },
      "execution_count": 30,
      "outputs": []
    },
    {
      "cell_type": "code",
      "source": [
        "service = ChordService(3)"
      ],
      "metadata": {
        "id": "BEAUlazZVogy"
      },
      "execution_count": 31,
      "outputs": []
    },
    {
      "cell_type": "code",
      "source": [
        "node_0 = ChordNode(\n",
        "    id = 0,\n",
        "    finger_table = None,\n",
        "    chord_service = service,\n",
        "    predecessor_id = None\n",
        ")"
      ],
      "metadata": {
        "id": "1bIk055RVuLP"
      },
      "execution_count": 32,
      "outputs": []
    },
    {
      "cell_type": "code",
      "source": [
        "node_0.join(None)"
      ],
      "metadata": {
        "colab": {
          "base_uri": "https://localhost:8080/"
        },
        "id": "ZDWYTAn4V-wS",
        "outputId": "ed35e91d-c627-4196-dae0-5be82f5b523c"
      },
      "execution_count": 33,
      "outputs": [
        {
          "output_type": "stream",
          "name": "stdout",
          "text": [
            "----------\n",
            "Start call join.\n",
            "Info: node.id=0, args=(None,), kwargs={}\n",
            "------------\n",
            "--Start call prepare_finger_table.\n",
            "--Info: node.id=0, args=(), kwargs={}\n",
            "--Finish call prepare_finger_table.\n",
            "--Returned value: None\n",
            "--//////////\n",
            "Finish call join.\n",
            "Returned value: None\n",
            "//////////\n"
          ]
        }
      ]
    },
    {
      "cell_type": "code",
      "source": [
        "node_1 = ChordNode(\n",
        "    id = 1, \n",
        "    finger_table = None,\n",
        "    chord_service = service,\n",
        "    predecessor_id = None\n",
        ")"
      ],
      "metadata": {
        "id": "e4z1BkxqIFZ0"
      },
      "execution_count": 34,
      "outputs": []
    },
    {
      "cell_type": "code",
      "source": [
        "node_1.join(node_0)"
      ],
      "metadata": {
        "colab": {
          "base_uri": "https://localhost:8080/"
        },
        "id": "fv7f-__OIXX7",
        "outputId": "d1738a50-0452-42e3-91ff-df0c19e54bfe"
      },
      "execution_count": 35,
      "outputs": [
        {
          "output_type": "stream",
          "name": "stdout",
          "text": [
            "----------\n",
            "Start call join.\n",
            "Info: node.id=1, args=(Node: id=0,), kwargs={}\n",
            "------------\n",
            "--Start call prepare_finger_table.\n",
            "--Info: node.id=1, args=(), kwargs={}\n",
            "--Finish call prepare_finger_table.\n",
            "--Returned value: None\n",
            "--//////////\n",
            "------------\n",
            "--Start call init_finger_table.\n",
            "--Info: node.id=1, args=(Node: id=0,), kwargs={}\n",
            "--------------\n",
            "----Start call find_successor.\n",
            "----Info: node.id=0, args=(2,), kwargs={}\n",
            "----------------\n",
            "------Start call find_predecessor.\n",
            "------Info: node.id=0, args=(2,), kwargs={}\n",
            "------------------\n",
            "--------Start call successor_id.\n",
            "--------Info: node.id=0, args=(), kwargs={}\n",
            "--------Finish call successor_id.\n",
            "--------Returned value: 0\n",
            "--------//////////\n",
            "Check 2 in [0, 0]\n",
            "------Finish call find_predecessor.\n",
            "------Returned value: Node: id=0\n",
            "------//////////\n",
            "----------------\n",
            "------Start call successor.\n",
            "------Info: node.id=0, args=(), kwargs={}\n",
            "------Finish call successor.\n",
            "------Returned value: Node: id=0\n",
            "------//////////\n",
            "----Finish call find_successor.\n",
            "----Returned value: Node: id=0\n",
            "----//////////\n",
            "Check 3 in [1, 0]\n",
            "Check 5 in [1, 0]\n",
            "--Finish call init_finger_table.\n",
            "--Returned value: None\n",
            "--//////////\n",
            "------------\n",
            "--Start call update_others.\n",
            "--Info: node.id=1, args=(), kwargs={}\n",
            "--------------\n",
            "----Start call find_predecessor.\n",
            "----Info: node.id=1, args=(1,), kwargs={}\n",
            "----------------\n",
            "------Start call predecessor.\n",
            "------Info: node.id=1, args=(), kwargs={}\n",
            "------Finish call predecessor.\n",
            "------Returned value: Node: id=0\n",
            "------//////////\n",
            "----Finish call find_predecessor.\n",
            "----Returned value: Node: id=0\n",
            "----//////////\n",
            "--------------\n",
            "----Start call update_finger_table_v2.\n",
            "----Info: node.id=0, args=(1, 0), kwargs={}\n",
            "Updating finger 0 with 1. not_accessible=False\n",
            "Check 1 in [0, 0]\n",
            "Updated finger 0 at 0 with 1\n",
            "----------------\n",
            "------Start call update_finger_table_v2.\n",
            "------Info: node.id=1, args=(1, 0), kwargs={}\n",
            "------Finish call update_finger_table_v2.\n",
            "------Returned value: None\n",
            "------//////////\n",
            "Found old finger which is already correct. Propagating info further...\n",
            "----------------\n",
            "------Start call update_finger_table_v2.\n",
            "------Info: node.id=1, args=(1, 0), kwargs={}\n",
            "------Finish call update_finger_table_v2.\n",
            "------Returned value: None\n",
            "------//////////\n",
            "----Finish call update_finger_table_v2.\n",
            "----Returned value: None\n",
            "----//////////\n",
            "--------------\n",
            "----Start call find_predecessor.\n",
            "----Info: node.id=1, args=(0,), kwargs={}\n",
            "----------------\n",
            "------Start call successor_id.\n",
            "------Info: node.id=1, args=(), kwargs={}\n",
            "------Finish call successor_id.\n",
            "------Returned value: 0\n",
            "------//////////\n",
            "Check 0 in [1, 0]\n",
            "----Finish call find_predecessor.\n",
            "----Returned value: Node: id=1\n",
            "----//////////\n",
            "--------------\n",
            "----Start call update_finger_table_v2.\n",
            "----Info: node.id=1, args=(1, 1), kwargs={}\n",
            "----Finish call update_finger_table_v2.\n",
            "----Returned value: None\n",
            "----//////////\n",
            "--------------\n",
            "----Start call find_predecessor.\n",
            "----Info: node.id=1, args=(6,), kwargs={}\n",
            "----------------\n",
            "------Start call successor_id.\n",
            "------Info: node.id=1, args=(), kwargs={}\n",
            "------Finish call successor_id.\n",
            "------Returned value: 0\n",
            "------//////////\n",
            "Check 6 in [1, 0]\n",
            "----Finish call find_predecessor.\n",
            "----Returned value: Node: id=1\n",
            "----//////////\n",
            "--------------\n",
            "----Start call update_finger_table_v2.\n",
            "----Info: node.id=1, args=(1, 2), kwargs={}\n",
            "----Finish call update_finger_table_v2.\n",
            "----Returned value: None\n",
            "----//////////\n",
            "--Finish call update_others.\n",
            "--Returned value: None\n",
            "--//////////\n",
            "Finish call join.\n",
            "Returned value: None\n",
            "//////////\n"
          ]
        }
      ]
    },
    {
      "cell_type": "code",
      "source": [
        "node_1.finger_table"
      ],
      "metadata": {
        "colab": {
          "base_uri": "https://localhost:8080/"
        },
        "id": "aoJ60AdpIb0b",
        "outputId": "317b6715-6c97-43fc-f0d0-1810f264b704"
      },
      "execution_count": 36,
      "outputs": [
        {
          "output_type": "execute_result",
          "data": {
            "text/plain": [
              "[Finger(start=2, interval=(2, 3), node_id=0),\n",
              " Finger(start=3, interval=(3, 5), node_id=0),\n",
              " Finger(start=5, interval=(5, 1), node_id=0)]"
            ]
          },
          "metadata": {},
          "execution_count": 36
        }
      ]
    },
    {
      "cell_type": "code",
      "source": [
        "node_0.finger_table"
      ],
      "metadata": {
        "colab": {
          "base_uri": "https://localhost:8080/"
        },
        "id": "3L2OzO4AIg9z",
        "outputId": "e7bc7179-a5bd-4560-ace5-4049ecca5ecc"
      },
      "execution_count": 37,
      "outputs": [
        {
          "output_type": "execute_result",
          "data": {
            "text/plain": [
              "[Finger(start=1, interval=(1, 2), node_id=1),\n",
              " Finger(start=2, interval=(2, 4), node_id=0),\n",
              " Finger(start=4, interval=(4, 0), node_id=0)]"
            ]
          },
          "metadata": {},
          "execution_count": 37
        }
      ]
    },
    {
      "cell_type": "code",
      "source": [
        "node_3 = ChordNode(\n",
        "    id = 3,\n",
        "    finger_table = None,\n",
        "    chord_service = service,\n",
        "    predecessor_id = None\n",
        ")"
      ],
      "metadata": {
        "id": "Cn4cNWJiIkmP"
      },
      "execution_count": 38,
      "outputs": []
    },
    {
      "cell_type": "code",
      "source": [
        "node_3.join(node_0)"
      ],
      "metadata": {
        "colab": {
          "base_uri": "https://localhost:8080/"
        },
        "id": "8qDoGoOHIzo4",
        "outputId": "f17f9472-e007-45b3-dfe5-63c22212eff0"
      },
      "execution_count": 39,
      "outputs": [
        {
          "output_type": "stream",
          "name": "stdout",
          "text": [
            "----------\n",
            "Start call join.\n",
            "Info: node.id=3, args=(Node: id=0,), kwargs={}\n",
            "------------\n",
            "--Start call prepare_finger_table.\n",
            "--Info: node.id=3, args=(), kwargs={}\n",
            "--Finish call prepare_finger_table.\n",
            "--Returned value: None\n",
            "--//////////\n",
            "------------\n",
            "--Start call init_finger_table.\n",
            "--Info: node.id=3, args=(Node: id=0,), kwargs={}\n",
            "--------------\n",
            "----Start call find_successor.\n",
            "----Info: node.id=0, args=(4,), kwargs={}\n",
            "----------------\n",
            "------Start call find_predecessor.\n",
            "------Info: node.id=0, args=(4,), kwargs={}\n",
            "------------------\n",
            "--------Start call successor_id.\n",
            "--------Info: node.id=0, args=(), kwargs={}\n",
            "--------Finish call successor_id.\n",
            "--------Returned value: 1\n",
            "--------//////////\n",
            "Check 4 in [0, 1]\n",
            "------------------\n",
            "--------Start call closest_preceding_finger.\n",
            "--------Info: node.id=0, args=(4,), kwargs={}\n",
            "Checking finger 2\n",
            "Check 0 in [0, 4]\n",
            "Checking finger 1\n",
            "Check 0 in [0, 4]\n",
            "Checking finger 0\n",
            "Check 1 in [0, 4]\n",
            "--------Finish call closest_preceding_finger.\n",
            "--------Returned value: Node: id=1\n",
            "--------//////////\n",
            "------------------\n",
            "--------Start call successor_id.\n",
            "--------Info: node.id=1, args=(), kwargs={}\n",
            "--------Finish call successor_id.\n",
            "--------Returned value: 0\n",
            "--------//////////\n",
            "Check 4 in [1, 0]\n",
            "------Finish call find_predecessor.\n",
            "------Returned value: Node: id=1\n",
            "------//////////\n",
            "----------------\n",
            "------Start call successor.\n",
            "------Info: node.id=1, args=(), kwargs={}\n",
            "------Finish call successor.\n",
            "------Returned value: Node: id=0\n",
            "------//////////\n",
            "----Finish call find_successor.\n",
            "----Returned value: Node: id=0\n",
            "----//////////\n",
            "Check 5 in [3, 0]\n",
            "Check 7 in [3, 0]\n",
            "--Finish call init_finger_table.\n",
            "--Returned value: None\n",
            "--//////////\n",
            "------------\n",
            "--Start call update_others.\n",
            "--Info: node.id=3, args=(), kwargs={}\n",
            "--------------\n",
            "----Start call find_predecessor.\n",
            "----Info: node.id=3, args=(3,), kwargs={}\n",
            "----------------\n",
            "------Start call predecessor.\n",
            "------Info: node.id=3, args=(), kwargs={}\n",
            "------Finish call predecessor.\n",
            "------Returned value: Node: id=1\n",
            "------//////////\n",
            "----Finish call find_predecessor.\n",
            "----Returned value: Node: id=1\n",
            "----//////////\n",
            "--------------\n",
            "----Start call update_finger_table_v2.\n",
            "----Info: node.id=1, args=(3, 0), kwargs={}\n",
            "Updating finger 0 with 3. not_accessible=False\n",
            "Check 3 in [1, 0]\n",
            "Updated finger 0 at 1 with 3\n",
            "----------------\n",
            "------Start call update_finger_table_v2.\n",
            "------Info: node.id=0, args=(3, 0), kwargs={}\n",
            "Updating finger 0 with 3. not_accessible=False\n",
            "Check 3 in [0, 1]\n",
            "------Finish call update_finger_table_v2.\n",
            "------Returned value: None\n",
            "------//////////\n",
            "Found old finger which is already correct. Propagating info further...\n",
            "----------------\n",
            "------Start call update_finger_table_v2.\n",
            "------Info: node.id=0, args=(3, 0), kwargs={}\n",
            "Updating finger 0 with 3. not_accessible=False\n",
            "Check 3 in [0, 1]\n",
            "------Finish call update_finger_table_v2.\n",
            "------Returned value: None\n",
            "------//////////\n",
            "----Finish call update_finger_table_v2.\n",
            "----Returned value: None\n",
            "----//////////\n",
            "--------------\n",
            "----Start call find_predecessor.\n",
            "----Info: node.id=3, args=(2,), kwargs={}\n",
            "----------------\n",
            "------Start call successor_id.\n",
            "------Info: node.id=3, args=(), kwargs={}\n",
            "------Finish call successor_id.\n",
            "------Returned value: 0\n",
            "------//////////\n",
            "Check 2 in [3, 0]\n",
            "----------------\n",
            "------Start call closest_preceding_finger.\n",
            "------Info: node.id=3, args=(2,), kwargs={}\n",
            "Checking finger 2\n",
            "Check 0 in [3, 2]\n",
            "------Finish call closest_preceding_finger.\n",
            "------Returned value: Node: id=0\n",
            "------//////////\n",
            "----------------\n",
            "------Start call successor_id.\n",
            "------Info: node.id=0, args=(), kwargs={}\n",
            "------Finish call successor_id.\n",
            "------Returned value: 1\n",
            "------//////////\n",
            "Check 2 in [0, 1]\n",
            "----------------\n",
            "------Start call closest_preceding_finger.\n",
            "------Info: node.id=0, args=(2,), kwargs={}\n",
            "Checking finger 2\n",
            "Check 0 in [0, 2]\n",
            "Checking finger 1\n",
            "Check 0 in [0, 2]\n",
            "Checking finger 0\n",
            "Check 1 in [0, 2]\n",
            "------Finish call closest_preceding_finger.\n",
            "------Returned value: Node: id=1\n",
            "------//////////\n",
            "----------------\n",
            "------Start call successor_id.\n",
            "------Info: node.id=1, args=(), kwargs={}\n",
            "------Finish call successor_id.\n",
            "------Returned value: 3\n",
            "------//////////\n",
            "Check 2 in [1, 3]\n",
            "----Finish call find_predecessor.\n",
            "----Returned value: Node: id=1\n",
            "----//////////\n",
            "--------------\n",
            "----Start call update_finger_table_v2.\n",
            "----Info: node.id=1, args=(3, 1), kwargs={}\n",
            "Updating finger 1 with 3. not_accessible=False\n",
            "Check 3 in [1, 0]\n",
            "Updated finger 1 at 1 with 3\n",
            "----------------\n",
            "------Start call update_finger_table_v2.\n",
            "------Info: node.id=0, args=(3, 1), kwargs={}\n",
            "Updating finger 1 with 3. not_accessible=False\n",
            "Check 3 in [0, 0]\n",
            "Updated finger 1 at 0 with 3\n",
            "------------------\n",
            "--------Start call update_finger_table_v2.\n",
            "--------Info: node.id=3, args=(3, 1), kwargs={}\n",
            "--------Finish call update_finger_table_v2.\n",
            "--------Returned value: None\n",
            "--------//////////\n",
            "Found old finger which is already correct. Propagating info further...\n",
            "------------------\n",
            "--------Start call update_finger_table_v2.\n",
            "--------Info: node.id=3, args=(3, 1), kwargs={}\n",
            "--------Finish call update_finger_table_v2.\n",
            "--------Returned value: None\n",
            "--------//////////\n",
            "------Finish call update_finger_table_v2.\n",
            "------Returned value: None\n",
            "------//////////\n",
            "Found old finger which is already correct. Propagating info further...\n",
            "----------------\n",
            "------Start call update_finger_table_v2.\n",
            "------Info: node.id=0, args=(3, 1), kwargs={}\n",
            "Updating finger 1 with 3. not_accessible=False\n",
            "Check 3 in [0, 3]\n",
            "Found old finger which is already correct. Propagating info further...\n",
            "------------------\n",
            "--------Start call update_finger_table_v2.\n",
            "--------Info: node.id=3, args=(3, 1), kwargs={}\n",
            "--------Finish call update_finger_table_v2.\n",
            "--------Returned value: None\n",
            "--------//////////\n",
            "------Finish call update_finger_table_v2.\n",
            "------Returned value: None\n",
            "------//////////\n",
            "----Finish call update_finger_table_v2.\n",
            "----Returned value: None\n",
            "----//////////\n",
            "--------------\n",
            "----Start call find_predecessor.\n",
            "----Info: node.id=3, args=(0,), kwargs={}\n",
            "----------------\n",
            "------Start call successor_id.\n",
            "------Info: node.id=3, args=(), kwargs={}\n",
            "------Finish call successor_id.\n",
            "------Returned value: 0\n",
            "------//////////\n",
            "Check 0 in [3, 0]\n",
            "----Finish call find_predecessor.\n",
            "----Returned value: Node: id=3\n",
            "----//////////\n",
            "--------------\n",
            "----Start call update_finger_table_v2.\n",
            "----Info: node.id=3, args=(3, 2), kwargs={}\n",
            "----Finish call update_finger_table_v2.\n",
            "----Returned value: None\n",
            "----//////////\n",
            "--Finish call update_others.\n",
            "--Returned value: None\n",
            "--//////////\n",
            "Finish call join.\n",
            "Returned value: None\n",
            "//////////\n"
          ]
        }
      ]
    },
    {
      "cell_type": "code",
      "source": [
        "node_3.finger_table"
      ],
      "metadata": {
        "colab": {
          "base_uri": "https://localhost:8080/"
        },
        "id": "BIec_mh7I4Lz",
        "outputId": "c081ef35-259d-4259-ae96-b5ad64565755"
      },
      "execution_count": 40,
      "outputs": [
        {
          "output_type": "execute_result",
          "data": {
            "text/plain": [
              "[Finger(start=4, interval=(4, 5), node_id=0),\n",
              " Finger(start=5, interval=(5, 7), node_id=0),\n",
              " Finger(start=7, interval=(7, 3), node_id=0)]"
            ]
          },
          "metadata": {},
          "execution_count": 40
        }
      ]
    },
    {
      "cell_type": "code",
      "source": [
        "node_0 = ChordNode(\n",
        "    id = 0,\n",
        "    finger_table = [\n",
        "      Finger(1, [1, 2], 1),\n",
        "      Finger(2, [2, 4], 3),\n",
        "      Finger(4, [4, 0], 0)\n",
        "    ],\n",
        "    chord_service = service,\n",
        "    predecessor_id = 3\n",
        ")"
      ],
      "metadata": {
        "id": "_Kstp96BI6RV"
      },
      "execution_count": 41,
      "outputs": []
    },
    {
      "cell_type": "code",
      "source": [
        "node_1 = ChordNode(\n",
        "    id = 1,\n",
        "    finger_table = [\n",
        "        Finger(2, [2, 3], 3), \n",
        "        Finger(3, [3, 5], 3),\n",
        "        Finger(5, [5, 1], 0)\n",
        "    ],\n",
        "    chord_service = service,\n",
        "    predecessor_id = 0\n",
        ")"
      ],
      "metadata": {
        "id": "PP-PEyiEILTT"
      },
      "execution_count": 42,
      "outputs": []
    },
    {
      "cell_type": "code",
      "source": [
        "node_3 = ChordNode(\n",
        "    id = 3,\n",
        "    finger_table = [\n",
        "        Finger(4, [4, 5], 0), \n",
        "        Finger(5, [5, 7], 0),\n",
        "        Finger(7, [7, 3], 0)\n",
        "    ],\n",
        "    chord_service = service,\n",
        "    predecessor_id = 1\n",
        ")"
      ],
      "metadata": {
        "id": "vJ2sltmOJkbp"
      },
      "execution_count": 43,
      "outputs": []
    },
    {
      "cell_type": "code",
      "source": [
        "node_3.find_successor(2).id"
      ],
      "metadata": {
        "colab": {
          "base_uri": "https://localhost:8080/"
        },
        "id": "KmSLd2oOJk7V",
        "outputId": "91b58ae1-3e83-4c4b-9b6d-e5c70176af71"
      },
      "execution_count": 44,
      "outputs": [
        {
          "output_type": "stream",
          "name": "stdout",
          "text": [
            "----------\n",
            "Start call find_successor.\n",
            "Info: node.id=3, args=(2,), kwargs={}\n",
            "------------\n",
            "--Start call find_predecessor.\n",
            "--Info: node.id=3, args=(2,), kwargs={}\n",
            "--------------\n",
            "----Start call successor_id.\n",
            "----Info: node.id=3, args=(), kwargs={}\n",
            "----Finish call successor_id.\n",
            "----Returned value: 0\n",
            "----//////////\n",
            "Check 2 in [3, 0]\n",
            "--------------\n",
            "----Start call closest_preceding_finger.\n",
            "----Info: node.id=3, args=(2,), kwargs={}\n",
            "Checking finger 2\n",
            "Check 0 in [3, 2]\n",
            "----Finish call closest_preceding_finger.\n",
            "----Returned value: Node: id=0\n",
            "----//////////\n",
            "--------------\n",
            "----Start call successor_id.\n",
            "----Info: node.id=0, args=(), kwargs={}\n",
            "----Finish call successor_id.\n",
            "----Returned value: 1\n",
            "----//////////\n",
            "Check 2 in [0, 1]\n",
            "--------------\n",
            "----Start call closest_preceding_finger.\n",
            "----Info: node.id=0, args=(2,), kwargs={}\n",
            "Checking finger 2\n",
            "Check 0 in [0, 2]\n",
            "Checking finger 1\n",
            "Check 3 in [0, 2]\n",
            "Checking finger 0\n",
            "Check 1 in [0, 2]\n",
            "----Finish call closest_preceding_finger.\n",
            "----Returned value: Node: id=1\n",
            "----//////////\n",
            "--------------\n",
            "----Start call successor_id.\n",
            "----Info: node.id=1, args=(), kwargs={}\n",
            "----Finish call successor_id.\n",
            "----Returned value: 3\n",
            "----//////////\n",
            "Check 2 in [1, 3]\n",
            "--Finish call find_predecessor.\n",
            "--Returned value: Node: id=1\n",
            "--//////////\n",
            "------------\n",
            "--Start call successor.\n",
            "--Info: node.id=1, args=(), kwargs={}\n",
            "--Finish call successor.\n",
            "--Returned value: Node: id=3\n",
            "--//////////\n",
            "Finish call find_successor.\n",
            "Returned value: Node: id=3\n",
            "//////////\n"
          ]
        },
        {
          "output_type": "execute_result",
          "data": {
            "text/plain": [
              "3"
            ]
          },
          "metadata": {},
          "execution_count": 44
        }
      ]
    },
    {
      "cell_type": "code",
      "source": [
        "node_4 = ChordNode(\n",
        "    id = 4,\n",
        "    finger_table = None,\n",
        "    chord_service = service,\n",
        "    predecessor_id = None\n",
        ")"
      ],
      "metadata": {
        "id": "Nb-VYPlLJwYh"
      },
      "execution_count": 45,
      "outputs": []
    },
    {
      "cell_type": "code",
      "source": [
        "node_4.join(node_3)"
      ],
      "metadata": {
        "colab": {
          "base_uri": "https://localhost:8080/"
        },
        "id": "kqpeoCrbJxR3",
        "outputId": "dc2366c8-cc01-4b05-a33f-172dca9eb776"
      },
      "execution_count": 46,
      "outputs": [
        {
          "output_type": "stream",
          "name": "stdout",
          "text": [
            "----------\n",
            "Start call join.\n",
            "Info: node.id=4, args=(Node: id=3,), kwargs={}\n",
            "------------\n",
            "--Start call prepare_finger_table.\n",
            "--Info: node.id=4, args=(), kwargs={}\n",
            "--Finish call prepare_finger_table.\n",
            "--Returned value: None\n",
            "--//////////\n",
            "------------\n",
            "--Start call init_finger_table.\n",
            "--Info: node.id=4, args=(Node: id=3,), kwargs={}\n",
            "--------------\n",
            "----Start call find_successor.\n",
            "----Info: node.id=3, args=(5,), kwargs={}\n",
            "----------------\n",
            "------Start call find_predecessor.\n",
            "------Info: node.id=3, args=(5,), kwargs={}\n",
            "------------------\n",
            "--------Start call successor_id.\n",
            "--------Info: node.id=3, args=(), kwargs={}\n",
            "--------Finish call successor_id.\n",
            "--------Returned value: 0\n",
            "--------//////////\n",
            "Check 5 in [3, 0]\n",
            "------Finish call find_predecessor.\n",
            "------Returned value: Node: id=3\n",
            "------//////////\n",
            "----------------\n",
            "------Start call successor.\n",
            "------Info: node.id=3, args=(), kwargs={}\n",
            "------Finish call successor.\n",
            "------Returned value: Node: id=0\n",
            "------//////////\n",
            "----Finish call find_successor.\n",
            "----Returned value: Node: id=0\n",
            "----//////////\n",
            "Check 6 in [4, 0]\n",
            "Check 0 in [4, 0]\n",
            "--------------\n",
            "----Start call find_successor.\n",
            "----Info: node.id=3, args=(0,), kwargs={}\n",
            "----------------\n",
            "------Start call find_predecessor.\n",
            "------Info: node.id=3, args=(0,), kwargs={}\n",
            "------------------\n",
            "--------Start call successor_id.\n",
            "--------Info: node.id=3, args=(), kwargs={}\n",
            "--------Finish call successor_id.\n",
            "--------Returned value: 0\n",
            "--------//////////\n",
            "Check 0 in [3, 0]\n",
            "------Finish call find_predecessor.\n",
            "------Returned value: Node: id=3\n",
            "------//////////\n",
            "----------------\n",
            "------Start call successor.\n",
            "------Info: node.id=3, args=(), kwargs={}\n",
            "------Finish call successor.\n",
            "------Returned value: Node: id=0\n",
            "------//////////\n",
            "----Finish call find_successor.\n",
            "----Returned value: Node: id=0\n",
            "----//////////\n",
            "--Finish call init_finger_table.\n",
            "--Returned value: None\n",
            "--//////////\n",
            "------------\n",
            "--Start call update_others.\n",
            "--Info: node.id=4, args=(), kwargs={}\n",
            "--------------\n",
            "----Start call find_predecessor.\n",
            "----Info: node.id=4, args=(4,), kwargs={}\n",
            "----------------\n",
            "------Start call predecessor.\n",
            "------Info: node.id=4, args=(), kwargs={}\n",
            "------Finish call predecessor.\n",
            "------Returned value: Node: id=3\n",
            "------//////////\n",
            "----Finish call find_predecessor.\n",
            "----Returned value: Node: id=3\n",
            "----//////////\n",
            "--------------\n",
            "----Start call update_finger_table_v2.\n",
            "----Info: node.id=3, args=(4, 0), kwargs={}\n",
            "Updating finger 0 with 4. not_accessible=False\n",
            "Check 4 in [3, 0]\n",
            "Updated finger 0 at 3 with 4\n",
            "----------------\n",
            "------Start call update_finger_table_v2.\n",
            "------Info: node.id=1, args=(4, 0), kwargs={}\n",
            "Updating finger 0 with 4. not_accessible=False\n",
            "Check 4 in [1, 3]\n",
            "------Finish call update_finger_table_v2.\n",
            "------Returned value: None\n",
            "------//////////\n",
            "Found old finger which is already correct. Propagating info further...\n",
            "----------------\n",
            "------Start call update_finger_table_v2.\n",
            "------Info: node.id=1, args=(4, 0), kwargs={}\n",
            "Updating finger 0 with 4. not_accessible=False\n",
            "Check 4 in [1, 3]\n",
            "------Finish call update_finger_table_v2.\n",
            "------Returned value: None\n",
            "------//////////\n",
            "----Finish call update_finger_table_v2.\n",
            "----Returned value: None\n",
            "----//////////\n",
            "--------------\n",
            "----Start call find_predecessor.\n",
            "----Info: node.id=4, args=(3,), kwargs={}\n",
            "----------------\n",
            "------Start call successor_id.\n",
            "------Info: node.id=4, args=(), kwargs={}\n",
            "------Finish call successor_id.\n",
            "------Returned value: 0\n",
            "------//////////\n",
            "Check 3 in [4, 0]\n",
            "----------------\n",
            "------Start call closest_preceding_finger.\n",
            "------Info: node.id=4, args=(3,), kwargs={}\n",
            "Checking finger 2\n",
            "Check 0 in [4, 3]\n",
            "------Finish call closest_preceding_finger.\n",
            "------Returned value: Node: id=0\n",
            "------//////////\n",
            "----------------\n",
            "------Start call successor_id.\n",
            "------Info: node.id=0, args=(), kwargs={}\n",
            "------Finish call successor_id.\n",
            "------Returned value: 1\n",
            "------//////////\n",
            "Check 3 in [0, 1]\n",
            "----------------\n",
            "------Start call closest_preceding_finger.\n",
            "------Info: node.id=0, args=(3,), kwargs={}\n",
            "Checking finger 2\n",
            "Check 0 in [0, 3]\n",
            "Checking finger 1\n",
            "Check 3 in [0, 3]\n",
            "Checking finger 0\n",
            "Check 1 in [0, 3]\n",
            "------Finish call closest_preceding_finger.\n",
            "------Returned value: Node: id=1\n",
            "------//////////\n",
            "----------------\n",
            "------Start call successor_id.\n",
            "------Info: node.id=1, args=(), kwargs={}\n",
            "------Finish call successor_id.\n",
            "------Returned value: 3\n",
            "------//////////\n",
            "Check 3 in [1, 3]\n",
            "----Finish call find_predecessor.\n",
            "----Returned value: Node: id=1\n",
            "----//////////\n",
            "--------------\n",
            "----Start call update_finger_table_v2.\n",
            "----Info: node.id=1, args=(4, 1), kwargs={}\n",
            "Updating finger 1 with 4. not_accessible=False\n",
            "Check 4 in [1, 3]\n",
            "----Finish call update_finger_table_v2.\n",
            "----Returned value: None\n",
            "----//////////\n",
            "--------------\n",
            "----Start call find_predecessor.\n",
            "----Info: node.id=4, args=(1,), kwargs={}\n",
            "----------------\n",
            "------Start call successor_id.\n",
            "------Info: node.id=4, args=(), kwargs={}\n",
            "------Finish call successor_id.\n",
            "------Returned value: 0\n",
            "------//////////\n",
            "Check 1 in [4, 0]\n",
            "----------------\n",
            "------Start call closest_preceding_finger.\n",
            "------Info: node.id=4, args=(1,), kwargs={}\n",
            "Checking finger 2\n",
            "Check 0 in [4, 1]\n",
            "------Finish call closest_preceding_finger.\n",
            "------Returned value: Node: id=0\n",
            "------//////////\n",
            "----------------\n",
            "------Start call successor_id.\n",
            "------Info: node.id=0, args=(), kwargs={}\n",
            "------Finish call successor_id.\n",
            "------Returned value: 1\n",
            "------//////////\n",
            "Check 1 in [0, 1]\n",
            "----Finish call find_predecessor.\n",
            "----Returned value: Node: id=0\n",
            "----//////////\n",
            "--------------\n",
            "----Start call update_finger_table_v2.\n",
            "----Info: node.id=0, args=(4, 2), kwargs={}\n",
            "Updating finger 2 with 4. not_accessible=False\n",
            "Check 4 in [0, 0]\n",
            "Updated finger 2 at 0 with 4\n",
            "----------------\n",
            "------Start call update_finger_table_v2.\n",
            "------Info: node.id=4, args=(4, 2), kwargs={}\n",
            "------Finish call update_finger_table_v2.\n",
            "------Returned value: None\n",
            "------//////////\n",
            "Found old finger which is already correct. Propagating info further...\n",
            "----------------\n",
            "------Start call update_finger_table_v2.\n",
            "------Info: node.id=4, args=(4, 2), kwargs={}\n",
            "------Finish call update_finger_table_v2.\n",
            "------Returned value: None\n",
            "------//////////\n",
            "----Finish call update_finger_table_v2.\n",
            "----Returned value: None\n",
            "----//////////\n",
            "--Finish call update_others.\n",
            "--Returned value: None\n",
            "--//////////\n",
            "Finish call join.\n",
            "Returned value: None\n",
            "//////////\n"
          ]
        }
      ]
    },
    {
      "cell_type": "code",
      "source": [
        "node_4.finger_table"
      ],
      "metadata": {
        "colab": {
          "base_uri": "https://localhost:8080/"
        },
        "id": "V6mNIT2EJ3Jv",
        "outputId": "de0773ad-7a55-45ae-b7b9-4756047465d5"
      },
      "execution_count": 47,
      "outputs": [
        {
          "output_type": "execute_result",
          "data": {
            "text/plain": [
              "[Finger(start=5, interval=(5, 6), node_id=0),\n",
              " Finger(start=6, interval=(6, 0), node_id=0),\n",
              " Finger(start=0, interval=(0, 4), node_id=0)]"
            ]
          },
          "metadata": {},
          "execution_count": 47
        }
      ]
    },
    {
      "cell_type": "code",
      "source": [
        "node_3.finger_table"
      ],
      "metadata": {
        "colab": {
          "base_uri": "https://localhost:8080/"
        },
        "id": "p6AjzdaPJ7oR",
        "outputId": "41c0fe23-5bf4-452f-9a10-ac1ee790b3ea"
      },
      "execution_count": 48,
      "outputs": [
        {
          "output_type": "execute_result",
          "data": {
            "text/plain": [
              "[Finger(start=4, interval=[4, 5], node_id=4),\n",
              " Finger(start=5, interval=[5, 7], node_id=0),\n",
              " Finger(start=7, interval=[7, 3], node_id=0)]"
            ]
          },
          "metadata": {},
          "execution_count": 48
        }
      ]
    },
    {
      "cell_type": "code",
      "source": [
        "node_1.finger_table"
      ],
      "metadata": {
        "colab": {
          "base_uri": "https://localhost:8080/"
        },
        "id": "Kl5jO_7PJ99r",
        "outputId": "f4ffa12b-b8bc-47d4-8425-6ff2608aadfc"
      },
      "execution_count": 49,
      "outputs": [
        {
          "output_type": "execute_result",
          "data": {
            "text/plain": [
              "[Finger(start=2, interval=[2, 3], node_id=3),\n",
              " Finger(start=3, interval=[3, 5], node_id=3),\n",
              " Finger(start=5, interval=[5, 1], node_id=0)]"
            ]
          },
          "metadata": {},
          "execution_count": 49
        }
      ]
    },
    {
      "cell_type": "code",
      "source": [
        "node_0.finger_table"
      ],
      "metadata": {
        "colab": {
          "base_uri": "https://localhost:8080/"
        },
        "id": "pkK6SReTKB8U",
        "outputId": "2e4135c3-8e32-4e03-b4c9-b1761a52634f"
      },
      "execution_count": 50,
      "outputs": [
        {
          "output_type": "execute_result",
          "data": {
            "text/plain": [
              "[Finger(start=1, interval=[1, 2], node_id=1),\n",
              " Finger(start=2, interval=[2, 4], node_id=3),\n",
              " Finger(start=4, interval=[4, 0], node_id=4)]"
            ]
          },
          "metadata": {},
          "execution_count": 50
        }
      ]
    },
    {
      "cell_type": "code",
      "source": [
        "node_4.disconnect"
      ],
      "metadata": {
        "colab": {
          "base_uri": "https://localhost:8080/"
        },
        "id": "0SoWsspSKDov",
        "outputId": "80d7c9a2-70d3-4e26-d4e0-b5f77e7b7f66"
      },
      "execution_count": 51,
      "outputs": [
        {
          "output_type": "execute_result",
          "data": {
            "text/plain": [
              "<bound method log.<locals>.decorated_fn of Node: id=4>"
            ]
          },
          "metadata": {},
          "execution_count": 51
        }
      ]
    }
  ]
}